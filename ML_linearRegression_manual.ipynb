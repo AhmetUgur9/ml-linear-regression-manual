{
 "cells": [
  {
   "cell_type": "code",
   "execution_count": 89,
   "id": "0a97b428-9cf2-4fcd-a9e4-47e8c7c461d9",
   "metadata": {
    "tags": []
   },
   "outputs": [
    {
     "name": "stdout",
     "output_type": "stream",
     "text": [
      "Predictor : y = 1.9200000000000008x + 0.499999999999996\n",
      "[1.92 0.5 ]\n"
     ]
    }
   ],
   "source": [
    "import numpy as np\n",
    "\n",
    "def LeastSquares(X, y_d):\n",
    "    X_t = X.T\n",
    "    beta = np.linalg.pinv(X_t @ X) @ X_t @ y_d\n",
    "    print(f\"Predictor : y = {beta[0]}x + {beta[1]}\")\n",
    "    print(beta)\n",
    "    \n",
    "    \n",
    "\n",
    "A = np.array([[0,1],[1,1],[2,1],[3,1],[4,1],[5,1]])\n",
    "\n",
    "y = np.array([0.3,2.6,3.7,7.2,8.5,9.5])\n",
    "\n",
    "LeastSquares(A,y)"
   ]
  },
  {
   "cell_type": "code",
   "execution_count": 91,
   "id": "e0dc18f8-71bf-4ea6-82c8-010c62f41534",
   "metadata": {
    "tags": []
   },
   "outputs": [
    {
     "name": "stdout",
     "output_type": "stream",
     "text": [
      "Predictor : y = 0.48206113509773674x + -0.06188210034679321\n",
      "[ 0.48206114 -0.0618821 ]\n"
     ]
    }
   ],
   "source": [
    "import mglearn as mg\n",
    "\n",
    "X_mg, y_mg = mg.datasets.make_wave(n_samples=40)\n",
    "ones1 = np.ones((40,1))\n",
    "\n",
    "X_mg = np.concatenate((X_mg, ones1), axis=1)\n",
    "\n",
    "LeastSquares(X_mg,y_mg)"
   ]
  }
 ],
 "metadata": {
  "kernelspec": {
   "display_name": "Python 3 (ipykernel)",
   "language": "python",
   "name": "python3"
  },
  "language_info": {
   "codemirror_mode": {
    "name": "ipython",
    "version": 3
   },
   "file_extension": ".py",
   "mimetype": "text/x-python",
   "name": "python",
   "nbconvert_exporter": "python",
   "pygments_lexer": "ipython3",
   "version": "3.11.4"
  }
 },
 "nbformat": 4,
 "nbformat_minor": 5
}
